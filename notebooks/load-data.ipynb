{
 "cells": [
  {
   "cell_type": "code",
   "execution_count": 1,
   "metadata": {},
   "outputs": [],
   "source": [
    "from pathlib import Path\n",
    "import judilibre_client\n",
    "import pandas as pd\n"
   ]
  },
  {
   "cell_type": "code",
   "execution_count": null,
   "metadata": {},
   "outputs": [],
   "source": [
    "api_instance = judilibre_client.DefaultApi()\n",
    "\n",
    "try:\n",
    "    api_instance.healthcheck()\n",
    "\n",
    "    page_size = 50\n",
    "    query_text = \"notaire\"\n",
    "    search_results = api_instance.search(\n",
    "        query=query_text, page_size=page_size, page=0\n",
    "    )\n",
    "\n",
    "    all_results = search_results[\"results\"]\n",
    "\n",
    "    page_count = (search_results[\"total\"] // page_size) - 1\n",
    "\n",
    "except ApiException as e:\n",
    "    print(\"Exception when calling DefaultApi ... %s\\n\" % e)\n"
   ]
  },
  {
   "cell_type": "code",
   "execution_count": null,
   "metadata": {},
   "outputs": [],
   "source": [
    "\n",
    "    for i in tqdm(range(1, page_count)):\n",
    "        search_results = api_instance.search(\n",
    "            query=query_text, page_size=page_size, page=i\n",
    "        )\n",
    "        all_results += search_results[\"results\"]\n",
    "\n",
    "    df = pd.DataFrame(all_results)\n",
    "\n",
    "    save_df_as_jsonl(df[df[\"summary\"].notna()], ROOT.parent / \"dataset.jsonl\")\n"
   ]
  }
 ],
 "metadata": {
  "kernelspec": {
   "display_name": "Python 3",
   "language": "python",
   "name": "python3"
  },
  "language_info": {
   "codemirror_mode": {
    "name": "ipython",
    "version": 3
   },
   "file_extension": ".py",
   "mimetype": "text/x-python",
   "name": "python",
   "nbconvert_exporter": "python",
   "pygments_lexer": "ipython3",
   "version": "3.10.12"
  }
 },
 "nbformat": 4,
 "nbformat_minor": 2
}
